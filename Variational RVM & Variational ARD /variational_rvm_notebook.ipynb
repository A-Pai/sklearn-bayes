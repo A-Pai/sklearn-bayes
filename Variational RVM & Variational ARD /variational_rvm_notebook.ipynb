{
 "cells": [
  {
   "cell_type": "markdown",
   "metadata": {},
   "source": [
    "# Variational Relevance Vector Machine: Comparison of VRVR, RVR and SVR"
   ]
  },
  {
   "cell_type": "raw",
   "metadata": {},
   "source": [
    "In this small tutorial we compare Variational Relevance Vector Machine, Type II ML Relevance Vector Machine and SVM.\n",
    "Main difference between standard RVR and VRVR is that later one employs fully bayesian approach, it introduces gamma priors on precision parameters of  Note that in contrast to Type II ML which prunes out features at each iteartion Variational Bayes uses all features at each iteration which makes it drastically slower. In original paper (Tipping(2000)) it was argu"
   ]
  },
  {
   "cell_type": "code",
   "execution_count": 2,
   "metadata": {
    "collapsed": false
   },
   "outputs": [],
   "source": [
    "import numpy as np\n",
    "import matplotlib.pyplot as plt\n",
    "from sklearn.cross_validation import train_test_split\n",
    "from sklearn.metrics import mean_squared_error as mse\n",
    "from vrvm import VRVR\n",
    "from rvm import SparseBayesianLearner\n",
    "from sklearn.datasets import load_boston\n",
    "from sklearn.svm import SVR\n",
    "from sklearn.grid_search import GridSearchCV\n",
    "from sklearn.preprocessing import scale\n",
    "%matplotlib inline\n"
   ]
  },
  {
   "cell_type": "markdown",
   "metadata": {},
   "source": [
    "## Regression"
   ]
  },
  {
   "cell_type": "raw",
   "metadata": {},
   "source": [
    "As you can see from two examples shown below Variational version of RVR does not provide any visible gain in accuracy of prediction or model sparsity over standard RVR. Nevertheless both RVR and VRVR perform similar to SVR in terms of prediction accuracy on test set, while providing much sparser models."
   ]
  },
  {
   "cell_type": "markdown",
   "metadata": {},
   "source": [
    "### Synthetic example"
   ]
  },
  {
   "cell_type": "code",
   "execution_count": 42,
   "metadata": {
    "collapsed": false
   },
   "outputs": [],
   "source": [
    "# parameters\n",
    "n = [10,15,20,25,40,60,100,200,300,500,1000]\n",
    "\n",
    "\n",
    "def comparison(n):\n",
    "    '''\n",
    "    Comparing RVR, VRVR and SVR \n",
    "    '''\n",
    "    # generate data set\n",
    "    Xc       = np.ones([n,1])\n",
    "    Xc[:,0]  = np.linspace(-5,5,n)\n",
    "    Yc       = 10*np.sinc(Xc[:,0]) + np.random.normal(0,1,n)\n",
    "    X,x,Y,y  = train_test_split(Xc,Yc,test_size = 0.4, random_state = 0)\n",
    "\n",
    "    # train rvm with fixed-point optimization\n",
    "    rvr = SparseBayesianLearner(learn_type = \"regression\",method=\"fixed-point\",alpha_max  = 1,\n",
    "                                                                           kernel     = \"gaussian\",\n",
    "                                                                           scaler     = 1)\n",
    "    rvr.fit(X,Y)\n",
    "    y_rvr,var = rvr.predictive_distribution(x)\n",
    "    rvr_err   = mse(y_rvr,y)\n",
    "    rvr_rvs       = np.sum(rvr.active[1:])\n",
    "    \n",
    "    # train variational rvm\n",
    "    vrvr       = VRVR(X,Y,kernel = \"rbf\", scaler = 1,prune_thresh = 1e-2)\n",
    "    vrvr.fit()\n",
    "    y_vrvr,var_vrvr = vrvr.predict_dist(x)\n",
    "    vrvr_err        = mse(y_vrvr,y)\n",
    "    vrvr_rvs        = np.sum(vrvr.active[1:])\n",
    "\n",
    "    # train svr\n",
    "    svr        = GridSearchCV(SVR(kernel = \"rbf\"), param_grid = {'gamma':np.logspace(-2,2,5),\n",
    "                                                             'C':np.logspace(-2,2,5)},\n",
    "                                                   cv = 5)\n",
    "    svr.fit(X,Y)\n",
    "    y_svr      = svr.predict(x)\n",
    "    svr_err    = mse(y_svr,y)\n",
    "    svr_svs    = np.shape(svr.best_estimator_.support_vectors_)[0]\n",
    "    \n",
    "    return {'rvr':[rvr_err,rvr_rvs],'vrvr':[vrvr_err,vrvr_rvs],\n",
    "            'svr':[svr_err,svr_svs]}\n",
    "\n",
    "mse_rvr,mse_svr,mse_vrvr = [],[],[]\n",
    "rvs_rvr,rvs_svr,rvs_vrvr = [],[],[]\n",
    "\n",
    "for n__obs in n:\n",
    "    for i in range(n_sim)\n",
    "    data = comparison(n_sim)\n",
    "    # relevance vector machine\n",
    "    \n"
   ]
  },
  {
   "cell_type": "markdown",
   "metadata": {},
   "source": [
    "### Boston housing example"
   ]
  },
  {
   "cell_type": "code",
   "execution_count": 31,
   "metadata": {
    "collapsed": false
   },
   "outputs": [
    {
     "name": "stdout",
     "output_type": "stream",
     "text": [
      "VRVR median MSE = 18.3991171027, median number of RVs = 35.0\n",
      "RVR median MSE = 17.8692725812, median number of RVs = 21.0\n",
      "SVR median MSE = 18.5061779678, median number of SVs = 77.0\n"
     ]
    }
   ],
   "source": [
    "\n",
    "\n",
    "# number of runs\n",
    "n_sim       = 100 \n",
    "\n",
    "# load data , split training & test\n",
    "boston      = load_boston()\n",
    "XXb,YYb     = scale(boston[\"data\"]),boston[\"target\"]\n",
    "\n",
    "\n",
    "# MSE & Relevant Vectors\n",
    "mse_rvr,mse_vrvr,mse_svr = [],[],[]\n",
    "rvs_rvr,rvs_vrvr,rvs_svr = [],[],[]\n",
    "\n",
    "for i in range(n_sim):\n",
    "    Xb,xb,Yb,yb = train_test_split(XXb,YYb,test_size = 0.7)\n",
    "    \n",
    "    # RVM\n",
    "    rvrb = SparseBayesianLearner(method = \"fixed-point\",learn_type = \"regression\",alpha_max=1e+3,\n",
    "                                                                                  scaler = 10,\n",
    "                                                                                  kernel=\"poly\",\n",
    "                                                                                  p_order = 3)\n",
    "    rvrb.fit(Xb,Yb)\n",
    "    y_rvrb,var  = rvrb.predictive_distribution(xb)\n",
    "    rvrb_err   = mse(y_rvrb,yb)\n",
    "    rvrb_rvs   = np.sum(rvrb.active[1:])\n",
    "    mse_rvr.append(rvrb_err); rvs_rvr.append(rvrb_rvs)\n",
    "\n",
    "    # VRVM\n",
    "    vrvrb            = VRVR(Xb,Yb,kernel = \"poly\", scaler = 10, prune_thresh = 1e-4, order = 3)\n",
    "    vrvrb.fit()\n",
    "    y_vrvr,var_vrvr  = vrvrb.predict_dist(xb)\n",
    "    vrvrb_err        = mse(y_vrvr,yb)\n",
    "    vrvrb_rvs        = np.sum(vrvrb.active[1:])\n",
    "    mse_vrvr.append(vrvrb_err); rvs_vrvr.append(vrvrb_rvs)\n",
    "    \n",
    "    # SVR\n",
    "    svr              = GridSearchCV( SVR(kernel='poly',coef0=1,degree=3),\n",
    "                                     param_grid = {\"gamma\":np.logspace(-2,2,5),\n",
    "                                                   \"C\":np.logspace(-3,3,7)},\n",
    "                                     cv = 5)\n",
    "    svr.fit(Xb,Yb)\n",
    "    y_svr            = svr.predict(xb)\n",
    "    svr_err          = mse(y_svr,yb)\n",
    "    svr_rvs          = np.shape(svr.best_estimator_.support_vectors_)[0]\n",
    "    mse_svr.append(svr_err); rvs_svr.append(svr_rvs)\n",
    "    \n",
    "\n",
    "print \"VRVR median MSE = {0}, median number of RVs = {1}\".format(np.median(mse_vrvr),np.median(rvs_vrvr))\n",
    "print \"RVR median MSE = {0}, median number of RVs = {1}\".format(np.median(mse_rvr),np.median(rvs_rvr))\n",
    "print \"SVR median MSE = {0}, median number of SVs = {1}\".format(np.median(mse_svr),np.median(rvs_svr))\n",
    "\n",
    "\n"
   ]
  },
  {
   "cell_type": "code",
   "execution_count": 33,
   "metadata": {
    "collapsed": false
   },
   "outputs": [
    {
     "data": {
      "image/png": "[encoded data removed]",
      "text/plain": [
       "<matplotlib.figure.Figure at 0x10e7ab710>"
      ]
     },
     "metadata": {},
     "output_type": "display_data"
    }
   ],
   "source": [
    "# comparing prediction accuracy on test set in terms of MSE\n",
    "plt.figure(figsize= (12,8))\n",
    "plt.boxplot((mse_vrvr,mse_rvr,mse_svr))\n",
    "plt.title(\"MSE: VRVR  - vs -   RVR  - vs - SVR\")\n",
    "plt.xlabel(\"Model\")\n",
    "plt.ylabel(\"Mean Squared Error\")\n",
    "plt.show()"
   ]
  },
  {
   "cell_type": "code",
   "execution_count": 34,
   "metadata": {
    "collapsed": false
   },
   "outputs": [
    {
     "data": {
      "image/png": "[encoded data removed]",
      "text/plain": [
       "<matplotlib.figure.Figure at 0x10fc57810>"
      ]
     },
     "metadata": {},
     "output_type": "display_data"
    }
   ],
   "source": [
    "# comparing model sparsity interms of relevant and support vectors\n",
    "plt.figure(figsize = (12,8))\n",
    "plt.boxplot((rvs_vrvr,rvs_rvr,rvs_svr))\n",
    "plt.title(\"MSE: VRVR  - vs -  RVR  - vs - SVR\")\n",
    "plt.xlabel(\"Model\")\n",
    "plt.ylabel(\"Mean Squared Error\")\n",
    "plt.ylim((0,200))\n",
    "plt.show()"
   ]
  }
 ],
 "metadata": {
  "kernelspec": {
   "display_name": "Python 2",
   "language": "python",
   "name": "python2"
  },
  "language_info": {
   "codemirror_mode": {
    "name": "ipython",
    "version": 2
   },
   "file_extension": ".py",
   "mimetype": "text/x-python",
   "name": "python",
   "nbconvert_exporter": "python",
   "pygments_lexer": "ipython2",
   "version": "2.7.9"
  }
 },
 "nbformat": 4,
 "nbformat_minor": 0
}
