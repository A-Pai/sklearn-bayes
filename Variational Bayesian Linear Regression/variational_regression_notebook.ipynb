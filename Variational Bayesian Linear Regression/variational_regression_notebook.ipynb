{
 "cells": [
  {
   "cell_type": "markdown",
   "metadata": {},
   "source": [
    "# Variational Bayesian Linear Regression (Mean Field Approximation)"
   ]
  },
  {
   "cell_type": "raw",
   "metadata": {},
   "source": [
    "Here we compare Variational Bayesian Linear Regression, OLS and Type II ML Bayesian Regression in case of highly correlated features."
   ]
  },
  {
   "cell_type": "code",
   "execution_count": 6,
   "metadata": {
    "collapsed": false
   },
   "outputs": [],
   "source": [
    "import numpy as np\n",
    "import matplotlib.pyplot as plt\n",
    "from sklearn.linear_model import LinearRegression\n",
    "from variational_lin_reg import VariationalLinearRegression\n",
    "from sklearn.cross_validation import train_test_split\n",
    "from sklearn.metrics import mean_squared_error as mse\n",
    "from bayesian_regression import BayesianRegression\n",
    "import time\n",
    "%matplotlib inline\n",
    "\n"
   ]
  },
  {
   "cell_type": "markdown",
   "metadata": {},
   "source": [
    "### Bayesian Linear Regression: Type II Maximum Likelihood vs Mean Field Approximation vs OLS"
   ]
  },
  {
   "cell_type": "markdown",
   "metadata": {},
   "source": [
    "In this small tutorial we compare different methods for linear regression, namely Type II maximum likelihood Bayesian Regression, Variational Bayesian Regression and OLS.\n",
    "As you can see both Type II ML and Variational Bayes provide much better mean squared error on test set compared with OLS, however they are both much slower*.\n",
    "(* TODO: Check my implementations for speed!!!)"
   ]
  },
  {
   "cell_type": "code",
   "execution_count": 55,
   "metadata": {
    "collapsed": false
   },
   "outputs": [],
   "source": [
    "# Parameters: \n",
    "#                    n - number of observations\n",
    "#                    m - number of features\n",
    "#                    n_sims - number of simulations\n",
    "n,m,n_sims = 500,499,100\n",
    "\n",
    "# timings\n",
    "vlr_times, blr_times, ols_times = [],[],[]\n",
    "# MSEs\n",
    "mse_vlr, mse_blr, mse_ols       = [],[],[]\n",
    "\n",
    "\n",
    "for i in range(n_sims):\n",
    "\n",
    "    # generate dependent variable & highly correlated explanatory variables\n",
    "    prototype = 5*np.random.random(n)\n",
    "    X0        = np.outer(prototype,np.ones(m)) + 0.05*np.random.randn(n, m)\n",
    "    Theta     = np.zeros(m)\n",
    "    Theta[0]  = 4.\n",
    "    Y0        = np.dot(X0, Theta) + np.random.normal(0,1,n)\n",
    "\n",
    "    # split into training set and test set\n",
    "    X,x,Y,y   = train_test_split(X0,Y0, test_size = 0.3, random_state = 0)\n",
    "\n",
    "    # fit & test Variational Linear Regression\n",
    "    vlr       = VariationalLinearRegression(X,Y,verbose = False,bias_term = True,\n",
    "                                                                max_iter  = 100)\n",
    "    vlr_start   = time.time()\n",
    "    vlr.fit()\n",
    "    vlr_end     = time.time()\n",
    "    y_vlr,v_vlr = vlr.predict_dist(x)\n",
    "    mse_vlr.append(mse(y_vlr,y))\n",
    "    vlr_times.append(vlr_end - vlr_start)\n",
    "\n",
    "    # fit & test Type II ML Bayesian Linear Regression\n",
    "    blr         = BayesianRegression(X,Y,bias_term = True)\n",
    "    blr_start   = time.time()\n",
    "    blr.fit()\n",
    "    blr_end     = time.time()\n",
    "    y_blr,v_blr = blr.predict_dist(x)\n",
    "    mse_blr.append(mse(y_blr,y))\n",
    "    blr_times.append(blr_end - blr_start)\n",
    "    \n",
    "    # fit & test OLS\n",
    "    ols         = LinearRegression()\n",
    "    ols_start   = time.time()\n",
    "    ols.fit(X,Y)\n",
    "    ols_end     = time.time()\n",
    "    y_ols       = ols.predict(x)\n",
    "    mse_ols.append(mse(y_ols,y))\n",
    "    ols_times.append(ols_end - ols_start)\n",
    "\n"
   ]
  },
  {
   "cell_type": "code",
   "execution_count": 56,
   "metadata": {
    "collapsed": false
   },
   "outputs": [
    {
     "name": "stdout",
     "output_type": "stream",
     "text": [
      "Average MSE for Type II ML Regression is 1.0364285211, averge time is 1.30961107731 ms\n",
      "Avergae MSE for Variational Regression is 1.04321293107, averge time is 0.92861768961 ms\n",
      "Average MSE for Ordinary Least Squares is 3.43093844308, average time is 0.0793789410591 ms\n"
     ]
    }
   ],
   "source": [
    "print \"Average MSE for Type II ML Regression is {0}, averge time is {1} ms\".format(np.mean(mse_blr),np.mean(blr_times))\n",
    "print \"Avergae MSE for Variational Regression is {0}, averge time is {1} ms\".format(np.mean(mse_vlr),np.mean(vlr_times))\n",
    "print \"Average MSE for Ordinary Least Squares is {0}, average time is {1} ms\".format(np.mean(mse_ols),np.mean(ols_times))"
   ]
  },
  {
   "cell_type": "code",
   "execution_count": 57,
   "metadata": {
    "collapsed": false
   },
   "outputs": [
    {
     "data": {
      "image/png": "[encoded data removed]",
      "text/plain": [
       "<matplotlib.figure.Figure at 0x10e787a10>"
      ]
     },
     "metadata": {},
     "output_type": "display_data"
    }
   ],
   "source": [
    "# compare mean squared error\n",
    "bp1 = plt.boxplot((mse_ols,mse_vlr,mse_blr))\n",
    "plt.title(\"MSE: OLS -vs- Varitional Bayes -vs- Type II ML \")\n",
    "plt.ylabel(\"Mean Squared Error\")\n",
    "plt.show()"
   ]
  },
  {
   "cell_type": "code",
   "execution_count": 58,
   "metadata": {
    "collapsed": false
   },
   "outputs": [
    {
     "data": {
      "image/png": "[encoded data removed]",
      "text/plain": [
       "<matplotlib.figure.Figure at 0x10f6a8b90>"
      ]
     },
     "metadata": {},
     "output_type": "display_data"
    }
   ],
   "source": [
    "# compare timings\n",
    "bp2 = plt.boxplot((ols_times,vlr_times,blr_times))\n",
    "plt.title(\"Timing: OLS -vs- Variational Bayes -vs- Type II ML\")\n",
    "plt.ylabel(\"Time in ms\")\n",
    "plt.show()"
   ]
  },
  {
   "cell_type": "code",
   "execution_count": null,
   "metadata": {
    "collapsed": true
   },
   "outputs": [],
   "source": []
  }
 ],
 "metadata": {
  "kernelspec": {
   "display_name": "Python 2",
   "language": "python",
   "name": "python2"
  },
  "language_info": {
   "codemirror_mode": {
    "name": "ipython",
    "version": 2
   },
   "file_extension": ".py",
   "mimetype": "text/x-python",
   "name": "python",
   "nbconvert_exporter": "python",
   "pygments_lexer": "ipython2",
   "version": "2.7.9"
  }
 },
 "nbformat": 4,
 "nbformat_minor": 0
}
