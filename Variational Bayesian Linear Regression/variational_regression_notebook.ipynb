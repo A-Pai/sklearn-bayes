{
 "cells": [
  {
   "cell_type": "markdown",
   "metadata": {},
   "source": [
    "# Variational Bayesian Linear Regression (Mean Field Approximation)"
   ]
  },
  {
   "cell_type": "raw",
   "metadata": {},
   "source": [
    "Here we compare Variational Bayesian Linear Regression with standard OLS in case of highly correlated features."
   ]
  },
  {
   "cell_type": "code",
   "execution_count": 1,
   "metadata": {
    "collapsed": false
   },
   "outputs": [],
   "source": [
    "import numpy as np\n",
    "import matplotlib.pyplot as plt\n",
    "from sklearn.linear_model import LinearRegression\n",
    "from variational_lin_reg import VariationalLinearRegression\n",
    "from sklearn.cross_validation import train_test_split\n",
    "from sklearn.metrics import mean_squared_error as mse\n",
    "from bayesian_regression import BayesianRegression\n",
    "import time\n",
    "%matplotlib inline\n",
    "\n"
   ]
  },
  {
   "cell_type": "markdown",
   "metadata": {},
   "source": [
    "### Bayesian Linear Regression: Type II Maximum Likelihood vs Mean Field Approximation vs OLS"
   ]
  },
  {
   "cell_type": "markdown",
   "metadata": {},
   "source": [
    "In this part we compare two different ways to fit Bayesian Linear Regression, namely type II maximum likelihood and \n",
    "variational bayes. In "
   ]
  },
  {
   "cell_type": "code",
   "execution_count": 3,
   "metadata": {
    "collapsed": false
   },
   "outputs": [
    {
     "name": "stdout",
     "output_type": "stream",
     "text": [
      "MSE for Type II ML Bayesian Linear Regression is 1.12864409384\n",
      "MSE for Variational Bayesian Linear Regression is 1.12779446016\n"
     ]
    }
   ],
   "source": [
    "# Parameters: \n",
    "#                    n - number of observations\n",
    "#                    m - number of features\n",
    "#                    n_sims - number of simulations\n",
    "n,m,n_sims = 200,199,100\n",
    "\n",
    "# timings\n",
    "vlr_times, blr_times, ols_times = [],[],[]\n",
    "# MSEs\n",
    "mse_vlr, mse_blr, ols_blr       = [],[],[]\n",
    "\n",
    "\n",
    "for i in range(n_sims)\n",
    "\n",
    "    # generate dependent variable & highly correlated explanatory variables\n",
    "    n, m      = 200, 199\n",
    "    prototype = 5*np.random.random(n)\n",
    "    X0        = np.outer(prototype,np.ones(m)) + 0.05*np.random.randn(n, m)\n",
    "    Theta     = np.zeros(m)\n",
    "    Theta[0]  = 4.\n",
    "    Y0        = np.dot(X0, Theta) + np.random.normal(0,1,n)\n",
    "\n",
    "    # split into training set and test set\n",
    "    X,x,Y,y   = train_test_split(X0,Y0, test_size = 0.3, random_state = 0)\n",
    "\n",
    "    # fit & test Variational Linear Regression\n",
    "    vlr       = VariationalLinearRegression(X,Y,verbose = False,bias_term = True,\n",
    "                                                                max_iter  = 100)\n",
    "    vlr.fit()\n",
    "    y_vlr,v_vlr = vlr.predict_dist(x)\n",
    "    mse_vlr.append(mse(y_vlr,y))     \n",
    "\n",
    "    # fit & test Type II Bayesian Linear Regression\n",
    "    blr         = BayesianRegression(X,Y,bias_term = True)\n",
    "    blr_start   = time.time()\n",
    "    blr.fit()\n",
    "    blr_end    = time.time()\n",
    "    y_blr,v_blr = blr.predict_dist(x)\n",
    "    mse_blr.append(mse(y_blr,y))\n",
    "    blr_times.append(blr_end - blr_start)\n",
    "\n",
    "print \"Average MSE for Type II ML Bayesian Linear Regression is {0}\".format(mse_blr)\n",
    "print \"MSE for Variational Bayesian Linear Regression is {0}\".format(mse_vlr)\n",
    "print \"MSE for Ordinary Least Squares is {0}\".format()\n",
    "\n",
    "\n"
   ]
  },
  {
   "cell_type": "code",
   "execution_count": null,
   "metadata": {
    "collapsed": true
   },
   "outputs": [],
   "source": []
  }
 ],
 "metadata": {
  "kernelspec": {
   "display_name": "Python 2",
   "language": "python",
   "name": "python2"
  },
  "language_info": {
   "codemirror_mode": {
    "name": "ipython",
    "version": 2
   },
   "file_extension": ".py",
   "mimetype": "text/x-python",
   "name": "python",
   "nbconvert_exporter": "python",
   "pygments_lexer": "ipython2",
   "version": "2.7.9"
  }
 },
 "nbformat": 4,
 "nbformat_minor": 0
}
