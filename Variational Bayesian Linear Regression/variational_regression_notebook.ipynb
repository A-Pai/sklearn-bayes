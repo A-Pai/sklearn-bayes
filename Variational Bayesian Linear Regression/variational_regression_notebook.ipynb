{
 "cells": [
  {
   "cell_type": "markdown",
   "metadata": {},
   "source": [
    "# Variational Bayesian Linear Regression (Mean Field Approximation)"
   ]
  },
  {
   "cell_type": "raw",
   "metadata": {},
   "source": [
    "Here we compare Variational Bayesian Linear Regression, OLS and Type II ML Bayesian Regression in case of highly correlated features."
   ]
  },
  {
   "cell_type": "code",
   "execution_count": 1,
   "metadata": {
    "collapsed": false
   },
   "outputs": [],
   "source": [
    "import numpy as np\n",
    "import matplotlib.pyplot as plt\n",
    "from sklearn.linear_model import LinearRegression\n",
    "from variational_lin_reg import VariationalLinearRegression\n",
    "from sklearn.cross_validation import train_test_split\n",
    "from sklearn.metrics import mean_squared_error as mse\n",
    "from bayesian_regression import BayesianRegression\n",
    "import time\n",
    "%matplotlib inline\n",
    "\n"
   ]
  },
  {
   "cell_type": "markdown",
   "metadata": {},
   "source": [
    "### Bayesian Linear Regression: Type II Maximum Likelihood vs Mean Field Approximation vs OLS"
   ]
  },
  {
   "cell_type": "markdown",
   "metadata": {},
   "source": [
    "As you can see both Type II ML and Variational Bayes provide much better mean squared error on test set compared with OLS."
   ]
  },
  {
   "cell_type": "code",
   "execution_count": 2,
   "metadata": {
    "collapsed": false
   },
   "outputs": [],
   "source": [
    "# Parameters: \n",
    "#                    n - number of observations\n",
    "#                    m - number of features\n",
    "#                    n_sims - number of simulations\n",
    "n,m,n_sims = 500,499,100\n",
    "\n",
    "# MSEs\n",
    "mse_vlr, mse_blr, mse_ols       = [],[],[]\n",
    "\n",
    "\n",
    "for i in range(n_sims):\n",
    "\n",
    "    # generate dependent variable & highly correlated explanatory variables\n",
    "    prototype = 5*np.random.random(n)\n",
    "    X0        = np.outer(prototype,np.ones(m)) + 0.05*np.random.randn(n, m)\n",
    "    Theta     = np.zeros(m)\n",
    "    Theta[0]  = 4.\n",
    "    Y0        = np.dot(X0, Theta) + np.random.normal(0,1,n)\n",
    "\n",
    "    # split into training set and test set\n",
    "    X,x,Y,y   = train_test_split(X0,Y0, test_size = 0.3, random_state = 0)\n",
    "\n",
    "    # fit & test Variational Linear Regression\n",
    "    vlr       = VariationalLinearRegression(X,Y,verbose = False,bias_term = True,\n",
    "                                                                max_iter  = 100)\n",
    "    vlr.fit()\n",
    "    y_vlr,v_vlr = vlr.predict_dist(x)\n",
    "    mse_vlr.append(mse(y_vlr,y))\n",
    "\n",
    "    # fit & test Type II ML Bayesian Linear Regression\n",
    "    blr         = BayesianRegression(X,Y,bias_term = True)\n",
    "    blr.fit()\n",
    "    y_blr,v_blr = blr.predict_dist(x)\n",
    "    mse_blr.append(mse(y_blr,y))\n",
    "    \n",
    "    # fit & test OLS\n",
    "    ols         = LinearRegression()\n",
    "    ols.fit(X,Y)\n",
    "    y_ols       = ols.predict(x)\n",
    "    mse_ols.append(mse(y_ols,y))\n",
    "\n"
   ]
  },
  {
   "cell_type": "code",
   "execution_count": 3,
   "metadata": {
    "collapsed": false
   },
   "outputs": [
    {
     "name": "stdout",
     "output_type": "stream",
     "text": [
      "Average MSE for Type II ML Regression is 1.04422493558\n",
      "Avergae MSE for Variational Regression is 1.04478846179\n",
      "Average MSE for Ordinary Least Squares is 3.40294552718\n"
     ]
    }
   ],
   "source": [
    "print \"Average MSE for Type II ML Regression is {0}\".format(np.mean(mse_blr))\n",
    "print \"Avergae MSE for Variational Regression is {0}\".format(np.mean(mse_vlr))\n",
    "print \"Average MSE for Ordinary Least Squares is {0}\".format(np.mean(mse_ols))"
   ]
  },
  {
   "cell_type": "code",
   "execution_count": 4,
   "metadata": {
    "collapsed": false
   },
   "outputs": [
    {
     "data": {
      "image/png": "[encoded data removed]",
      "text/plain": [
       "<matplotlib.figure.Figure at 0x10e1b1ed0>"
      ]
     },
     "metadata": {},
     "output_type": "display_data"
    }
   ],
   "source": [
    "# compare mean squared error\n",
    "bp1 = plt.boxplot((mse_ols,mse_vlr,mse_blr))\n",
    "plt.title(\"MSE: OLS -vs- Varitional Bayes -vs- Type II ML \")\n",
    "plt.ylabel(\"Mean Squared Error\")\n",
    "plt.show()"
   ]
  }
 ],
 "metadata": {
  "kernelspec": {
   "display_name": "Python 2",
   "language": "python",
   "name": "python2"
  },
  "language_info": {
   "codemirror_mode": {
    "name": "ipython",
    "version": 2
   },
   "file_extension": ".py",
   "mimetype": "text/x-python",
   "name": "python",
   "nbconvert_exporter": "python",
   "pygments_lexer": "ipython2",
   "version": "2.7.9"
  }
 },
 "nbformat": 4,
 "nbformat_minor": 0
}
