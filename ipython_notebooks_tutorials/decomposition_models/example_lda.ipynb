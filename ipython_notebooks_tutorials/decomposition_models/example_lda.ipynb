{
 "metadata": {
  "name": "",
  "signature": "sha256:d2ea7d75c90f9a3c814a52bf22adf75c114a70acc77891fb5992cbeade8bf264"
 },
 "nbformat": 3,
 "nbformat_minor": 0,
 "worksheets": [
  {
   "cells": [
    {
     "cell_type": "code",
     "collapsed": false,
     "input": [
      "# vim: set filetype=python:"
     ],
     "language": "python",
     "metadata": {},
     "outputs": [],
     "prompt_number": 32
    },
    {
     "cell_type": "heading",
     "level": 1,
     "metadata": {},
     "source": [
      "Latent Dirichlet Allocation"
     ]
    },
    {
     "cell_type": "markdown",
     "metadata": {},
     "source": []
    },
    {
     "cell_type": "heading",
     "level": 2,
     "metadata": {},
     "source": [
      "Example: 20 newsgroups"
     ]
    },
    {
     "cell_type": "markdown",
     "metadata": {},
     "source": [
      "We first load dataset using CountVectorizer class from sklearn"
     ]
    },
    {
     "cell_type": "code",
     "collapsed": false,
     "input": [
      "from time import time\n",
      "from skbayes.decomposition_models import GibbsLDA\n",
      "from sklearn.feature_extraction.text import CountVectorizer\n",
      "from sklearn.datasets import fetch_20newsgroups\n",
      "import matplotlib.pyplot as plt\n",
      "\n",
      "# example taken from  scikit-learn website\n",
      "n_samples = 200\n",
      "n_features = 1000\n",
      "n_topics = 10\n",
      "n_top_words = 20\n",
      "\n",
      "# load dataset\n",
      "print(\"Loading dataset...\")\n",
      "t0 = time()\n",
      "dataset = fetch_20newsgroups(shuffle=True, random_state=1,\n",
      "                             remove=('headers', 'footers', 'quotes'))\n",
      "data_samples = dataset.data\n",
      "print(\"done in %0.3fs.\" % (time() - t0))\n",
      "\n",
      "\n",
      "# Use tf (raw term count) features for LDA.\n",
      "print(\"Extracting tf features for LDA...\")\n",
      "tf_vectorizer = CountVectorizer(max_df=0.95, min_df=2, max_features=n_features,\n",
      "                                stop_words='english')\n",
      "t0 = time()\n",
      "tf = tf_vectorizer.fit_transform(data_samples)\n",
      "print(\"done in %0.3fs.\" % (time() - t0))\n",
      "print((\"Number of documents is {0}, vocabulary size is {1}\").format(tf.shape[0],tf.shape[1]))"
     ],
     "language": "python",
     "metadata": {},
     "outputs": [
      {
       "output_type": "stream",
       "stream": "stdout",
       "text": [
        "Loading dataset...\n",
        "done in 2.115s."
       ]
      },
      {
       "output_type": "stream",
       "stream": "stdout",
       "text": [
        "\n",
        "Extracting tf features for LDA...\n",
        "done in 2.463s."
       ]
      },
      {
       "output_type": "stream",
       "stream": "stdout",
       "text": [
        "\n",
        "Number of documents is 11314, vocabulary size is 1000\n"
       ]
      }
     ],
     "prompt_number": 11
    },
    {
     "cell_type": "code",
     "collapsed": false,
     "input": [
      "lda = GibbsLDA(n_topics = n_topics, n_burnin = 40, verbose = True,\n",
      "               compute_score = True)\n",
      "document_topic = lda.fit_transform(tf)"
     ],
     "language": "python",
     "metadata": {},
     "outputs": [
      {
       "output_type": "stream",
       "stream": "stdout",
       "text": [
        "collected 0 sample in burn-in stage, time spent on sample = 9.50581812859, log-like = -4686205.24869\n",
        "collected 1 sample in burn-in stage, time spent on sample = 9.37453794479, log-like = -4634131.83716"
       ]
      },
      {
       "output_type": "stream",
       "stream": "stdout",
       "text": [
        "\n",
        "collected 2 sample in burn-in stage, time spent on sample = 9.26843285561, log-like = -4497404.68934"
       ]
      },
      {
       "output_type": "stream",
       "stream": "stdout",
       "text": [
        "\n",
        "collected 3 sample in burn-in stage, time spent on sample = 9.47696900368, log-like = -4249361.83137"
       ]
      },
      {
       "output_type": "stream",
       "stream": "stdout",
       "text": [
        "\n",
        "collected 4 sample in burn-in stage, time spent on sample = 9.33416008949, log-like = -4062638.4181"
       ]
      },
      {
       "output_type": "stream",
       "stream": "stdout",
       "text": [
        "\n",
        "collected 5 sample in burn-in stage, time spent on sample = 9.29430890083, log-like = -3934079.30272"
       ]
      },
      {
       "output_type": "stream",
       "stream": "stdout",
       "text": [
        "\n",
        "collected 6 sample in burn-in stage, time spent on sample = 9.35388302803, log-like = -3826715.73873"
       ]
      },
      {
       "output_type": "stream",
       "stream": "stdout",
       "text": [
        "\n",
        "collected 7 sample in burn-in stage, time spent on sample = 9.51331400871, log-like = -3735224.81461"
       ]
      },
      {
       "output_type": "stream",
       "stream": "stdout",
       "text": [
        "\n",
        "collected 8 sample in burn-in stage, time spent on sample = 9.44646000862, log-like = -3665066.58879"
       ]
      },
      {
       "output_type": "stream",
       "stream": "stdout",
       "text": [
        "\n",
        "collected 9 sample in burn-in stage, time spent on sample = 9.52501988411, log-like = -3614461.47393"
       ]
      },
      {
       "output_type": "stream",
       "stream": "stdout",
       "text": [
        "\n",
        "collected 10 sample in burn-in stage, time spent on sample = 9.61591100693, log-like = -3578416.97408"
       ]
      },
      {
       "output_type": "stream",
       "stream": "stdout",
       "text": [
        "\n",
        "collected 11 sample in burn-in stage, time spent on sample = 9.46285390854, log-like = -3552679.33807"
       ]
      },
      {
       "output_type": "stream",
       "stream": "stdout",
       "text": [
        "\n",
        "collected 12 sample in burn-in stage, time spent on sample = 9.60676002502, log-like = -3531411.48408"
       ]
      },
      {
       "output_type": "stream",
       "stream": "stdout",
       "text": [
        "\n",
        "collected 13 sample in burn-in stage, time spent on sample = 10.0302398205, log-like = -3514433.6904"
       ]
      },
      {
       "output_type": "stream",
       "stream": "stdout",
       "text": [
        "\n",
        "collected 14 sample in burn-in stage, time spent on sample = 9.27340221405, log-like = -3501272.49731"
       ]
      },
      {
       "output_type": "stream",
       "stream": "stdout",
       "text": [
        "\n",
        "collected 15 sample in burn-in stage, time spent on sample = 9.37386608124, log-like = -3489860.46168"
       ]
      },
      {
       "output_type": "stream",
       "stream": "stdout",
       "text": [
        "\n",
        "collected 16 sample in burn-in stage, time spent on sample = 9.57119512558, log-like = -3481500.94333"
       ]
      },
      {
       "output_type": "stream",
       "stream": "stdout",
       "text": [
        "\n",
        "collected 17 sample in burn-in stage, time spent on sample = 9.53163695335, log-like = -3477267.4337"
       ]
      },
      {
       "output_type": "stream",
       "stream": "stdout",
       "text": [
        "\n",
        "collected 18 sample in burn-in stage, time spent on sample = 9.4094479084, log-like = -3471559.53748"
       ]
      },
      {
       "output_type": "stream",
       "stream": "stdout",
       "text": [
        "\n",
        "collected 19 sample in burn-in stage, time spent on sample = 9.53016591072, log-like = -3468201.26485"
       ]
      },
      {
       "output_type": "stream",
       "stream": "stdout",
       "text": [
        "\n",
        "collected 20 sample in burn-in stage, time spent on sample = 9.6389400959, log-like = -3464492.63499"
       ]
      },
      {
       "output_type": "stream",
       "stream": "stdout",
       "text": [
        "\n",
        "collected 21 sample in burn-in stage, time spent on sample = 9.437707901, log-like = -3461470.88015"
       ]
      },
      {
       "output_type": "stream",
       "stream": "stdout",
       "text": [
        "\n",
        "collected 22 sample in burn-in stage, time spent on sample = 9.66225194931, log-like = -3458346.8961"
       ]
      },
      {
       "output_type": "stream",
       "stream": "stdout",
       "text": [
        "\n",
        "collected 23 sample in burn-in stage, time spent on sample = 9.39700007439, log-like = -3457263.245"
       ]
      },
      {
       "output_type": "stream",
       "stream": "stdout",
       "text": [
        "\n",
        "collected 24 sample in burn-in stage, time spent on sample = 9.32721614838, log-like = -3455037.72085"
       ]
      },
      {
       "output_type": "stream",
       "stream": "stdout",
       "text": [
        "\n",
        "collected 25 sample in burn-in stage, time spent on sample = 9.5928440094, log-like = -3454807.86895"
       ]
      },
      {
       "output_type": "stream",
       "stream": "stdout",
       "text": [
        "\n",
        "collected 26 sample in burn-in stage, time spent on sample = 9.40157389641, log-like = -3453071.53704"
       ]
      },
      {
       "output_type": "stream",
       "stream": "stdout",
       "text": [
        "\n",
        "collected 27 sample in burn-in stage, time spent on sample = 9.30148506165, log-like = -3451410.00363"
       ]
      },
      {
       "output_type": "stream",
       "stream": "stdout",
       "text": [
        "\n",
        "collected 28 sample in burn-in stage, time spent on sample = 9.6787879467, log-like = -3450092.49035"
       ]
      },
      {
       "output_type": "stream",
       "stream": "stdout",
       "text": [
        "\n",
        "collected 29 sample in burn-in stage, time spent on sample = 10.3853740692, log-like = -3451668.52377"
       ]
      },
      {
       "output_type": "stream",
       "stream": "stdout",
       "text": [
        "\n"
       ]
      }
     ],
     "prompt_number": 4
    },
    {
     "cell_type": "code",
     "collapsed": false,
     "input": [
      "def print_top_words(model, feature_names, n_top_words):\n",
      "       for topic_idx, topic in enumerate(model.word_topic_.T):\n",
      "           print(\"Topic #%d:\" % topic_idx)\n",
      "           print(\" \".join([feature_names[i]\n",
      "                       for i in topic.argsort()[:-n_top_words - 1:-1]]))\n",
      "tf_feature_names = tf_vectorizer.get_feature_names()            \n",
      "print_top_words(lda,tf_feature_names,10)"
     ],
     "language": "python",
     "metadata": {},
     "outputs": [
      {
       "output_type": "stream",
       "stream": "stdout",
       "text": [
        "Topic #0:\n",
        "10 00 20 25 15 12 team game 14 11\n",
        "Topic #1:\n",
        "people government law gun state armenian right israel armenians war\n",
        "Topic #2:\n",
        "space new president mr research program nasa time university center\n",
        "Topic #3:\n",
        "key drive use windows bit card chip disk scsi dos\n",
        "Topic #4:\n",
        "edu file com available use program information ftp files window\n",
        "Topic #5:\n",
        "just don know think like going didn said got people\n",
        "Topic #6:\n",
        "ax max g9v b8f a86 pl 145 1d9 0t 1t\n",
        "Topic #7:\n",
        "thanks db looking mail hi know post cx interested advance\n",
        "Topic #8:\n",
        "god people does believe jesus say think true question life\n",
        "Topic #9:\n",
        "like don good just problem use better really ve time\n"
       ]
      }
     ],
     "prompt_number": 10
    },
    {
     "cell_type": "code",
     "collapsed": false,
     "input": [
      "import matplotlib.pyplot as plt\n",
      "plt.plot(lda.scores_)"
     ],
     "language": "python",
     "metadata": {},
     "outputs": [
      {
       "metadata": {},
       "output_type": "pyout",
       "prompt_number": 12,
       "text": [
        "[<matplotlib.lines.Line2D at 0x10830d450>]"
       ]
      },
      {
       "metadata": {},
       "output_type": "display_data",
       "png": "[encoded data removed]",
       "text": [
        "<matplotlib.figure.Figure at 0x106cddd50>"
       ]
      }
     ],
     "prompt_number": 12
    },
    {
     "cell_type": "code",
     "collapsed": false,
     "input": [
      "sns.clustermap(document_topic[0:400,:],row_cluster = True, col_cluster = False,\n",
      "               method = 'complete')"
     ],
     "language": "python",
     "metadata": {},
     "outputs": [
      {
       "metadata": {},
       "output_type": "pyout",
       "prompt_number": 28,
       "text": [
        "<seaborn.matrix.ClusterGrid at 0x13ce9cfd0>"
       ]
      },
      {
       "metadata": {},
       "output_type": "display_data",
       "png": "[encoded data removed]",
       "text": [
        "<matplotlib.figure.Figure at 0x13ee31d50>"
       ]
      }
     ],
     "prompt_number": 28
    },
    {
     "cell_type": "code",
     "collapsed": false,
     "input": [],
     "language": "python",
     "metadata": {},
     "outputs": []
    }
   ],
   "metadata": {}
  }
 ]
}